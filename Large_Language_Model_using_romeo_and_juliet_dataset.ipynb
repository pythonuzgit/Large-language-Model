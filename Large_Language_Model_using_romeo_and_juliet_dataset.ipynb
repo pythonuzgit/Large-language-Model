{
  "nbformat": 4,
  "nbformat_minor": 0,
  "metadata": {
    "colab": {
      "provenance": [],
      "authorship_tag": "ABX9TyNX7juG7C88yPbyGYztaPMb",
      "include_colab_link": true
    },
    "kernelspec": {
      "name": "python3",
      "display_name": "Python 3"
    },
    "language_info": {
      "name": "python"
    }
  },
  "cells": [
    {
      "cell_type": "markdown",
      "metadata": {
        "id": "view-in-github",
        "colab_type": "text"
      },
      "source": [
        "<a href=\"https://colab.research.google.com/github/pythonuzgit/Large-language-Model/blob/main/Large_Language_Model_using_romeo_and_juliet_dataset.ipynb\" target=\"_parent\"><img src=\"https://colab.research.google.com/assets/colab-badge.svg\" alt=\"Open In Colab\"/></a>"
      ]
    },
    {
      "cell_type": "code",
      "source": [
        "!kaggle datasets download -d golammostofas/romeo-and-juliet-tokenization"
      ],
      "metadata": {
        "colab": {
          "base_uri": "https://localhost:8080/"
        },
        "id": "kge1ZgwFqhsj",
        "outputId": "afe3cbd9-fa2b-450f-db23-8b45029f0c3c"
      },
      "execution_count": null,
      "outputs": [
        {
          "output_type": "stream",
          "name": "stdout",
          "text": [
            "Dataset URL: https://www.kaggle.com/datasets/golammostofas/romeo-and-juliet-tokenization\n",
            "License(s): CC0-1.0\n",
            "Downloading romeo-and-juliet-tokenization.zip to /content\n",
            "  0% 0.00/57.7k [00:00<?, ?B/s]\n",
            "100% 57.7k/57.7k [00:00<00:00, 49.7MB/s]\n"
          ]
        }
      ]
    },
    {
      "cell_type": "code",
      "source": [
        "import torch\n",
        "\n",
        "from torch import nn\n",
        "from torch.nn import functional as F\n",
        "\n",
        "import numpy as np\n",
        "\n",
        "from matplotlib import pyplot as plt\n",
        "\n",
        "import time\n",
        "\n",
        "import pandas as pd\n",
        "\n",
        "import urllib.request"
      ],
      "metadata": {
        "id": "jig2oyfwqhpD"
      },
      "execution_count": null,
      "outputs": []
    },
    {
      "cell_type": "markdown",
      "source": [
        "Load the datasets"
      ],
      "metadata": {
        "id": "uObHG6Bnwc0V"
      }
    },
    {
      "cell_type": "code",
      "source": [
        "lines=open(\"/content/romeo-and-juliet_tokenization.txt\",'r').read()\n",
        "\n",
        "vocab=sorted(list(set(lines)))\n",
        "\n",
        "print('Printing the first 10 characters of the vocab list:', vocab[:10])\n",
        "\n",
        "print('Total number of characters in our dataset (Vocabulary Size):',len(vocab))"
      ],
      "metadata": {
        "colab": {
          "base_uri": "https://localhost:8080/"
        },
        "id": "GP0DYS4qqhl0",
        "outputId": "6685bd6f-b096-4c9f-8c29-345ceb19b183"
      },
      "execution_count": null,
      "outputs": [
        {
          "output_type": "stream",
          "name": "stdout",
          "text": [
            "Printing the first 10 characters of the vocab list: ['\\t', '\\n', ' ', '!', '\"', \"'\", '(', ')', ',', '-']\n",
            "Total number of characters in our dataset (Vocabulary Size): 77\n"
          ]
        }
      ]
    },
    {
      "cell_type": "markdown",
      "source": [
        "Doing mapping"
      ],
      "metadata": {
        "id": "PpYUnMYFwur2"
      }
    },
    {
      "cell_type": "code",
      "source": [
        "# mapping integers to characters\n",
        "itos={i: ch for i, ch in enumerate(vocab)}\n",
        "\n",
        "# mappping characters to integers\n",
        "stoi={ch: i for i, ch in enumerate(vocab)}"
      ],
      "metadata": {
        "id": "75438ERRqhib"
      },
      "execution_count": null,
      "outputs": []
    },
    {
      "cell_type": "markdown",
      "source": [
        "Tokenizing"
      ],
      "metadata": {
        "id": "VVFXORlTw5_b"
      }
    },
    {
      "cell_type": "code",
      "source": [
        "# converts a string to s list of integers using the mapping stoi\n",
        "def encode(s):\n",
        "    return [stoi[ch] for ch in s]\n",
        "\n",
        "# converts a list of integers to a string using the mapping itos\n",
        "def decode(l):\n",
        "    return ''.join([itos[i] for i in l])\n",
        "\n",
        "# Encode the string \"hello\" and then decode the result\n",
        "decode(encode(\"morning\"))"
      ],
      "metadata": {
        "colab": {
          "base_uri": "https://localhost:8080/",
          "height": 36
        },
        "id": "nVSE4L1MqhgG",
        "outputId": "5a26895e-81c8-4eaf-d2bc-b00e8c5f6172"
      },
      "execution_count": null,
      "outputs": [
        {
          "output_type": "execute_result",
          "data": {
            "text/plain": [
              "'morning'"
            ],
            "application/vnd.google.colaboratory.intrinsic+json": {
              "type": "string"
            }
          },
          "metadata": {},
          "execution_count": 8
        }
      ]
    },
    {
      "cell_type": "markdown",
      "source": [
        "Let's apply it to the entire dataset"
      ],
      "metadata": {
        "id": "F_DjtrRYxKL-"
      }
    },
    {
      "cell_type": "code",
      "source": [
        "dataset=torch.tensor(encode(lines), dtype=torch.int8)\n",
        "\n",
        "# check the number of tokens in the dataset\n",
        "print(dataset.shape)"
      ],
      "metadata": {
        "colab": {
          "base_uri": "https://localhost:8080/"
        },
        "id": "klnm6KPaqhdV",
        "outputId": "3f7d67eb-1b7b-445e-fb4e-4050f968b561"
      },
      "execution_count": null,
      "outputs": [
        {
          "output_type": "stream",
          "name": "stdout",
          "text": [
            "torch.Size([141695])\n"
          ]
        }
      ]
    },
    {
      "cell_type": "markdown",
      "source": [
        "Split the training dataset"
      ],
      "metadata": {
        "id": "rB_NnGYUxTcQ"
      }
    },
    {
      "cell_type": "markdown",
      "source": [
        "Let's create a function responsible for splitting the dataset into training, validation, or the test sets."
      ],
      "metadata": {
        "id": "_uEbn-B6xZJd"
      }
    },
    {
      "cell_type": "code",
      "source": [
        "DEFAULT_CONFIG={\n",
        "    'batch_size':8, # Number of batches to be processed at each random split\n",
        "    'context_window':16 # Number of characters in each input (x) and target (y) sequences of each batch\n",
        "}"
      ],
      "metadata": {
        "id": "5KhVCCgPqhQs"
      },
      "execution_count": null,
      "outputs": []
    },
    {
      "cell_type": "code",
      "source": [
        "# Function to get batches for training, validation, or testing\n",
        "def get_batches(data, split, batch_size, context_window, config=DEFAULT_CONFIG):\n",
        "  train=data[:int(.8 * len(data))]\n",
        "  val=data[int(.8 *len(data)): int(.9 * len(data))]\n",
        "  test=data[int(.9 *len(data)):]\n",
        "\n",
        "\n",
        "\n",
        "\n",
        "  # Determine which split to use\n",
        "  batch_data=train\n",
        "  if split=='val':\n",
        "    batch_data=val\n",
        "\n",
        "  if split=='test':\n",
        "    batch_data=test\n",
        "\n",
        "  # Pick random starting points within the data\n",
        "  ix=torch.randint(0, batch_data.size(0)-context_window-1,(batch_size,))\n",
        "\n",
        "  # Create input sequences (x) and corresponding target sequences (y)\n",
        "  x=torch.stack([batch_data[i:i+context_window] for i in ix]).long()\n",
        "  y=torch.stack([batch_data[i+1:i+context_window+1] for i in ix]).long()\n",
        "\n",
        "  return x, y"
      ],
      "metadata": {
        "id": "wg1r3haexVjC"
      },
      "execution_count": null,
      "outputs": []
    },
    {
      "cell_type": "markdown",
      "source": [
        "Here, we are going to print a random sample from the train split of batch 8 and context window 16 from our dataset."
      ],
      "metadata": {
        "id": "9BRFUl3vG5Co"
      }
    },
    {
      "cell_type": "code",
      "source": [
        "xs, ys=get_batches(dataset, 'train', DEFAULT_CONFIG['batch_size'], DEFAULT_CONFIG['context_window'])\n",
        "\n",
        "decoded_samples=[(decode(xs[i].tolist()), decode(ys[i].tolist())) for i in range(len(xs))]\n",
        "\n",
        "print(decoded_samples)"
      ],
      "metadata": {
        "colab": {
          "base_uri": "https://localhost:8080/"
        },
        "id": "bRTkWVKaxVUO",
        "outputId": "e42f1ba1-f9bc-4cee-e03e-fc7fe9e275fd"
      },
      "execution_count": null,
      "outputs": [
        {
          "output_type": "stream",
          "name": "stdout",
          "text": [
            "[('ys all senses wi', 's all senses wit'), ('th made me effem', 'h made me effemi'), ('lt stabs Mercuti', 't stabs Mercutio'), ('\\nWelcome, gentle', 'Welcome, gentlem'), ('\\nDoth grace for ', 'Doth grace for g'), ('n withdraw to th', ' withdraw to the'), (\"'er look on libe\", 'er look on liber'), ('romised to retur', 'omised to return')]\n"
          ]
        }
      ]
    },
    {
      "cell_type": "markdown",
      "source": [
        "Evaluation Strategy"
      ],
      "metadata": {
        "id": "aPX_7mKH8J3e"
      }
    },
    {
      "cell_type": "code",
      "source": [
        "@torch.no_grad()\n",
        "def evaluate_loss(model, config=DEFAULT_CONFIG):\n",
        "\n",
        "  out={}\n",
        "\n",
        "  # Set the model to evaluation mode\n",
        "  model.eval()\n",
        "\n",
        "  for split in [\"train\",\"val\"]:\n",
        "    losses=[]\n",
        "\n",
        "    # generate 10 batches for evaluation\n",
        "    for _ in range(10):\n",
        "      xb,yb=get_batches(dataset, split, config['batch_size'], config['context_window'])\n",
        "\n",
        "      # Get inputs sequences (xb) and target sequences (yb)\n",
        "      _,loss=model(xb,yb)\n",
        "\n",
        "      losses.append(loss.item())\n",
        "\n",
        "    out[split]=np.mean(losses)\n",
        "    # Set the model back to training mode\n",
        "    model.train()\n",
        "\n",
        "    return out"
      ],
      "metadata": {
        "id": "e4vG8N5LxVQ_"
      },
      "execution_count": null,
      "outputs": []
    },
    {
      "cell_type": "markdown",
      "source": [
        "Setting Up a Base Neural Network Model"
      ],
      "metadata": {
        "id": "xa1dEHnU82Gt"
      }
    },
    {
      "cell_type": "code",
      "source": [
        "# Definition of a basic neural network class\n",
        "class SimpleBrokenModel(nn.Module):\n",
        "  def __init__(self, config=DEFAULT_CONFIG):\n",
        "    super().__init__()\n",
        "    self.config=config\n",
        "    # embedding layer to convert character indices to vectors (vocab size: 65)\n",
        "    self.embedding=nn.Embedding(config['vocab_size'], config['d_model'])\n",
        "    # Linear layers for modeling relationships between features\n",
        "    # to be updated with SwiGLU activation function as in LLaMA\n",
        "    self.linear=nn.Sequential(\n",
        "        nn.Linear(config['d_model'], config['d_model']),\n",
        "        nn.ReLU(), # Currently using ReLU, will be replaced with SwiGLU as in LLaMA\n",
        "        nn.Linear(config['d_model'], config['vocab_size']),\n",
        "        )\n",
        "    print(\"Model parameters:\", sum([m.numel() for m in self.parameters()]))\n",
        "\n",
        "  def forward(self, idx, targets=None):\n",
        "    # Embedding layer converts character indices to vectors\n",
        "    x=self.embedding(idx)\n",
        "\n",
        "    # Linear layers for modeling relationships between features\n",
        "    a=self.linear(x)\n",
        "    # Apply softmax activation to obtain probability distribution\n",
        "    logits=F.softmax(a, dim=-1)\n",
        "\n",
        "    # If targets are provided, calculate and return the cross-entropy loss\n",
        "    if targets is not None:\n",
        "      # Reshape logits and targets for cross-entripy calculation\n",
        "      loss=F.cross_entropy(logits.view(-1, self.config['vocab_size']), targets.view(-1))\n",
        "\n",
        "      return logits, loss\n",
        "        # If targets are nor provide\n",
        "        # If targets are nor provided, return the logits\n",
        "\n",
        "    else:\n",
        "      return logits"
      ],
      "metadata": {
        "id": "aWoNGaj7xVNe"
      },
      "execution_count": null,
      "outputs": []
    },
    {
      "cell_type": "code",
      "source": [
        "DEFAULT_CONFIG.update({\n",
        "    'd_model':128,\n",
        "    'vocab_size':len(vocab)\n",
        "})\n",
        "\n",
        "model=SimpleBrokenModel(DEFAULT_CONFIG)\n",
        "\n",
        "print(\"Total number of parameters in the Simple Neural Network Model:\", sum([m.numel() for m in model.parameters()]))"
      ],
      "metadata": {
        "id": "Fl4HsxGxxVER",
        "colab": {
          "base_uri": "https://localhost:8080/"
        },
        "outputId": "2688dfe7-cf4b-452d-adf6-5b1db61185a6"
      },
      "execution_count": null,
      "outputs": [
        {
          "output_type": "stream",
          "name": "stdout",
          "text": [
            "Model parameters: 36301\n",
            "Total number of parameters in the Simple Neural Network Model: 36301\n"
          ]
        }
      ]
    },
    {
      "cell_type": "markdown",
      "source": [
        "Computing logits and loss"
      ],
      "metadata": {
        "id": "DleWg7jlH1AN"
      }
    },
    {
      "cell_type": "code",
      "source": [
        "xs, ys=get_batches(dataset, 'train' , DEFAULT_CONFIG['batch_size'], DEFAULT_CONFIG['context_window'])\n",
        "logits, loss=model(xs, ys)"
      ],
      "metadata": {
        "id": "0G6f6Ei1Hu8C"
      },
      "execution_count": null,
      "outputs": []
    },
    {
      "cell_type": "code",
      "source": [
        "logits"
      ],
      "metadata": {
        "colab": {
          "base_uri": "https://localhost:8080/"
        },
        "id": "lQZZtXTKH4K9",
        "outputId": "cf4a3b7b-5c42-4274-eb96-0980a066f2a6"
      },
      "execution_count": null,
      "outputs": [
        {
          "output_type": "execute_result",
          "data": {
            "text/plain": [
              "tensor([[[0.0172, 0.0110, 0.0106,  ..., 0.0161, 0.0153, 0.0150],\n",
              "         [0.0146, 0.0164, 0.0117,  ..., 0.0169, 0.0160, 0.0118],\n",
              "         [0.0095, 0.0087, 0.0072,  ..., 0.0109, 0.0152, 0.0130],\n",
              "         ...,\n",
              "         [0.0102, 0.0085, 0.0121,  ..., 0.0125, 0.0157, 0.0114],\n",
              "         [0.0158, 0.0146, 0.0114,  ..., 0.0163, 0.0183, 0.0114],\n",
              "         [0.0217, 0.0112, 0.0112,  ..., 0.0152, 0.0215, 0.0132]],\n",
              "\n",
              "        [[0.0095, 0.0087, 0.0072,  ..., 0.0109, 0.0152, 0.0130],\n",
              "         [0.0102, 0.0085, 0.0121,  ..., 0.0125, 0.0157, 0.0114],\n",
              "         [0.0109, 0.0107, 0.0101,  ..., 0.0155, 0.0145, 0.0098],\n",
              "         ...,\n",
              "         [0.0217, 0.0112, 0.0112,  ..., 0.0152, 0.0215, 0.0132],\n",
              "         [0.0117, 0.0121, 0.0117,  ..., 0.0135, 0.0264, 0.0176],\n",
              "         [0.0138, 0.0121, 0.0120,  ..., 0.0116, 0.0133, 0.0117]],\n",
              "\n",
              "        [[0.0087, 0.0129, 0.0101,  ..., 0.0135, 0.0160, 0.0113],\n",
              "         [0.0138, 0.0121, 0.0120,  ..., 0.0116, 0.0133, 0.0117],\n",
              "         [0.0156, 0.0126, 0.0096,  ..., 0.0159, 0.0129, 0.0120],\n",
              "         ...,\n",
              "         [0.0138, 0.0121, 0.0120,  ..., 0.0116, 0.0133, 0.0117],\n",
              "         [0.0095, 0.0087, 0.0072,  ..., 0.0109, 0.0152, 0.0130],\n",
              "         [0.0143, 0.0129, 0.0101,  ..., 0.0199, 0.0147, 0.0156]],\n",
              "\n",
              "        ...,\n",
              "\n",
              "        [[0.0191, 0.0111, 0.0178,  ..., 0.0133, 0.0172, 0.0107],\n",
              "         [0.0158, 0.0076, 0.0102,  ..., 0.0112, 0.0086, 0.0103],\n",
              "         [0.0217, 0.0112, 0.0112,  ..., 0.0152, 0.0215, 0.0132],\n",
              "         ...,\n",
              "         [0.0143, 0.0129, 0.0101,  ..., 0.0199, 0.0147, 0.0156],\n",
              "         [0.0172, 0.0110, 0.0106,  ..., 0.0161, 0.0153, 0.0150],\n",
              "         [0.0146, 0.0164, 0.0117,  ..., 0.0169, 0.0160, 0.0118]],\n",
              "\n",
              "        [[0.0217, 0.0112, 0.0112,  ..., 0.0152, 0.0215, 0.0132],\n",
              "         [0.0124, 0.0114, 0.0152,  ..., 0.0116, 0.0159, 0.0125],\n",
              "         [0.0158, 0.0146, 0.0114,  ..., 0.0163, 0.0183, 0.0114],\n",
              "         ...,\n",
              "         [0.0217, 0.0112, 0.0112,  ..., 0.0152, 0.0215, 0.0132],\n",
              "         [0.0124, 0.0114, 0.0152,  ..., 0.0116, 0.0159, 0.0125],\n",
              "         [0.0143, 0.0129, 0.0101,  ..., 0.0199, 0.0147, 0.0156]],\n",
              "\n",
              "        [[0.0109, 0.0107, 0.0101,  ..., 0.0155, 0.0145, 0.0098],\n",
              "         [0.0139, 0.0085, 0.0132,  ..., 0.0186, 0.0146, 0.0111],\n",
              "         [0.0107, 0.0104, 0.0130,  ..., 0.0125, 0.0145, 0.0128],\n",
              "         ...,\n",
              "         [0.0127, 0.0152, 0.0091,  ..., 0.0176, 0.0188, 0.0125],\n",
              "         [0.0217, 0.0112, 0.0112,  ..., 0.0152, 0.0215, 0.0132],\n",
              "         [0.0146, 0.0164, 0.0117,  ..., 0.0169, 0.0160, 0.0118]]],\n",
              "       grad_fn=<SoftmaxBackward0>)"
            ]
          },
          "metadata": {},
          "execution_count": 18
        }
      ]
    },
    {
      "cell_type": "code",
      "source": [
        "loss"
      ],
      "metadata": {
        "colab": {
          "base_uri": "https://localhost:8080/"
        },
        "id": "VUXvEBmFH6Cq",
        "outputId": "eb7b749a-fcdc-4d4a-c4a3-2b8f778e6d1e"
      },
      "execution_count": null,
      "outputs": [
        {
          "output_type": "execute_result",
          "data": {
            "text/plain": [
              "tensor(4.3438, grad_fn=<NllLossBackward0>)"
            ]
          },
          "metadata": {},
          "execution_count": 19
        }
      ]
    },
    {
      "cell_type": "markdown",
      "source": [
        "Training"
      ],
      "metadata": {
        "id": "BQtxC-7bIA66"
      }
    },
    {
      "cell_type": "code",
      "source": [
        "DEFAULT_CONFIG.update({\n",
        "    'epochs':1000,        # Number of training epochs\n",
        "    'log_interval': 10,   # Log information every 10 batches during training\n",
        "    'batch_size': 32,     # Increase batch size to 32\n",
        "})\n",
        "\n",
        "model=SimpleBrokenModel(DEFAULT_CONFIG)\n",
        "\n",
        "# Define the Adam optimizer for model parameters\n",
        "optimizer=torch.optim.Adam(\n",
        "    model.parameters(),   # Pass the model parameters to the optimizer\n",
        ")"
      ],
      "metadata": {
        "colab": {
          "base_uri": "https://localhost:8080/"
        },
        "id": "h1VIhTZ2H-CW",
        "outputId": "ce56d3e2-a204-48e6-944d-3ab48d385100"
      },
      "execution_count": null,
      "outputs": [
        {
          "output_type": "stream",
          "name": "stdout",
          "text": [
            "Model parameters: 36301\n"
          ]
        }
      ]
    },
    {
      "cell_type": "code",
      "source": [
        "DEFAULT_CONFIG"
      ],
      "metadata": {
        "colab": {
          "base_uri": "https://localhost:8080/"
        },
        "id": "xPLp4DNHIGN8",
        "outputId": "5a5bc589-c7b3-4499-e895-d09052790e5b"
      },
      "execution_count": null,
      "outputs": [
        {
          "output_type": "execute_result",
          "data": {
            "text/plain": [
              "{'batch_size': 32,\n",
              " 'context_window': 16,\n",
              " 'd_model': 128,\n",
              " 'vocab_size': 77,\n",
              " 'epochs': 1000,\n",
              " 'log_interval': 10}"
            ]
          },
          "metadata": {},
          "execution_count": 21
        }
      ]
    },
    {
      "cell_type": "code",
      "source": [
        "def train(model, optimizer, scheduler=None, config=DEFAULT_CONFIG, print_logs=False):\n",
        "    losses=[]\n",
        "\n",
        "    start_time=time.time()\n",
        "\n",
        "    for epoch in range(config['epochs']):\n",
        "        #Zero out gradients\n",
        "        optimizer.zero_grad()\n",
        "\n",
        "        # Obtain batches for training\n",
        "        xs, ys = get_batches(dataset, 'train', config['batch_size'], config['context_window'])\n",
        "\n",
        "        #Forward pass through the model to calculate logits and loss\n",
        "        logits, loss =model(xs, targets=ys)\n",
        "\n",
        "        # Backward pass and optimization step\n",
        "        loss.backward()\n",
        "        optimizer.step()\n",
        "\n",
        "        # If a learning rate scheduler is provided, adjust the learning rate\n",
        "        if scheduler:\n",
        "            scheduler.step()\n",
        "\n",
        "        # Log progress every specified interval\n",
        "        if epoch % config['log_interval']==0:\n",
        "            # Calculate batch time\n",
        "            batch_time=time.time() - start_time\n",
        "\n",
        "            # Evaluate loss on validation set\n",
        "            x = evaluate_loss(model)\n",
        "\n",
        "            # Store the validation losss\n",
        "            losses+=[x] # Assuming evaluate_loss returns a single value\n",
        "\n",
        "            # Print progress logs if specified\n",
        "            if print_logs:\n",
        "                # Access the loss directly since it's not a dictionary\n",
        "                print(f\"Epoch {epoch}| val loss {x:.3f} | Time {batch_time:.3f}|ETA in seconds {batch_time*(config['epochs']-epoch)/config['log_interval']:.3f}\")\n",
        "\n",
        "            # Reset the timer\n",
        "            start_time=time.time()\n",
        "\n",
        "            if scheduler:\n",
        "                print(\"lr: \", scheduler.get_lr())\n",
        "\n",
        "    if losses:\n",
        "        # Access the loss directly since it's not a dictionary\n",
        "        print(\"Validation loss:\", losses[-1])\n",
        "    else:\n",
        "      print(\"No losses recorded\")\n",
        "\n",
        "    # Plot the training and validation loss curves\n",
        "    return pd.DataFrame(losses).plot()\n",
        "\n",
        "train(model, optimizer)"
      ],
      "metadata": {
        "id": "TnbzmhCtRDDH",
        "outputId": "2eaca420-71ac-43b0-d570-b13de38e5a06",
        "colab": {
          "base_uri": "https://localhost:8080/",
          "height": 469
        }
      },
      "execution_count": null,
      "outputs": [
        {
          "output_type": "stream",
          "name": "stdout",
          "text": [
            "Validation loss: {'train': 4.106500720977783}\n"
          ]
        },
        {
          "output_type": "execute_result",
          "data": {
            "text/plain": [
              "<Axes: >"
            ]
          },
          "metadata": {},
          "execution_count": 40
        },
        {
          "output_type": "display_data",
          "data": {
            "text/plain": [
              "<Figure size 640x480 with 1 Axes>"
            ],
            "image/png": "[encoded data removed]"
          },
          "metadata": {}
        }
      ]
    }
  ]
}